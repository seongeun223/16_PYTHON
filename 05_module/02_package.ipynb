{
 "cells": [
  {
   "cell_type": "markdown",
   "metadata": {},
   "source": [
    "# 02. 패키지 (Package)\n",
    "---\n",
    "## 02-01. 패키지 개요\n",
    "### 패키지란?\n",
    "- 관련있는 함수 클래스, 변수 등을 묶어 만든 모듈을 폴더로 구분하여 관리하는 것\n",
    "- 하나 이상의 모듈을 가지고 있는 폴더를 패키지라고 부른다."
   ]
  },
  {
   "cell_type": "markdown",
   "metadata": {},
   "source": [
    "### 02-01-02. 패키지 import\n",
    "- 패키지에 포함된 모듈을 import하기 위해 import 구문에서 모듈명 앞에 패키지명.을 붙여준다."
   ]
  },
  {
   "cell_type": "code",
   "execution_count": 1,
   "metadata": {},
   "outputs": [
    {
     "ename": "AttributeError",
     "evalue": "module 'og.team.teacher' has no attribute 'gorilla'",
     "output_type": "error",
     "traceback": [
      "\u001b[1;31m---------------------------------------------------------------------------\u001b[0m",
      "\u001b[1;31mAttributeError\u001b[0m                            Traceback (most recent call last)",
      "Cell \u001b[1;32mIn[1], line 3\u001b[0m\n\u001b[0;32m      1\u001b[0m \u001b[38;5;28;01mimport\u001b[39;00m \u001b[38;5;21;01mog\u001b[39;00m\u001b[38;5;21;01m.\u001b[39;00m\u001b[38;5;21;01mteam\u001b[39;00m\u001b[38;5;21;01m.\u001b[39;00m\u001b[38;5;21;01mteacher\u001b[39;00m\n\u001b[1;32m----> 3\u001b[0m \u001b[38;5;28mprint\u001b[39m(\u001b[43mog\u001b[49m\u001b[38;5;241;43m.\u001b[39;49m\u001b[43mteam\u001b[49m\u001b[38;5;241;43m.\u001b[39;49m\u001b[43mteacher\u001b[49m\u001b[38;5;241;43m.\u001b[39;49m\u001b[43mgorilla\u001b[49m())\n",
      "\u001b[1;31mAttributeError\u001b[0m: module 'og.team.teacher' has no attribute 'gorilla'"
     ]
    }
   ],
   "source": [
    "import og.team.teacher\n",
    "\n",
    "print(og.team.teacher.gorilla())"
   ]
  },
  {
   "cell_type": "code",
   "execution_count": 2,
   "metadata": {},
   "outputs": [
    {
     "ename": "AttributeError",
     "evalue": "module 'og.team.teacher' has no attribute 'gorilla'",
     "output_type": "error",
     "traceback": [
      "\u001b[1;31m---------------------------------------------------------------------------\u001b[0m",
      "\u001b[1;31mAttributeError\u001b[0m                            Traceback (most recent call last)",
      "Cell \u001b[1;32mIn[2], line 3\u001b[0m\n\u001b[0;32m      1\u001b[0m \u001b[38;5;28;01mimport\u001b[39;00m \u001b[38;5;21;01mog\u001b[39;00m\u001b[38;5;21;01m.\u001b[39;00m\u001b[38;5;21;01mteam\u001b[39;00m\u001b[38;5;21;01m.\u001b[39;00m\u001b[38;5;21;01mteacher\u001b[39;00m \u001b[38;5;28;01mas\u001b[39;00m \u001b[38;5;21;01mteacher\u001b[39;00m\n\u001b[1;32m----> 3\u001b[0m \u001b[38;5;28mprint\u001b[39m(\u001b[43mteacher\u001b[49m\u001b[38;5;241;43m.\u001b[39;49m\u001b[43mgorilla\u001b[49m())\n",
      "\u001b[1;31mAttributeError\u001b[0m: module 'og.team.teacher' has no attribute 'gorilla'"
     ]
    }
   ],
   "source": [
    "import og.team.teacher as teacher\n",
    "\n",
    "print(teacher.gorilla())"
   ]
  },
  {
   "cell_type": "code",
   "execution_count": 3,
   "metadata": {},
   "outputs": [
    {
     "ename": "ImportError",
     "evalue": "cannot import name 'gorilla' from 'og.team.teacher' (c:\\Users\\80403\\Desktop\\seongeun\\16_python\\05_module\\og\\team\\teacher.py)",
     "output_type": "error",
     "traceback": [
      "\u001b[1;31m---------------------------------------------------------------------------\u001b[0m",
      "\u001b[1;31mImportError\u001b[0m                               Traceback (most recent call last)",
      "Cell \u001b[1;32mIn[3], line 1\u001b[0m\n\u001b[1;32m----> 1\u001b[0m \u001b[38;5;28;01mfrom\u001b[39;00m \u001b[38;5;21;01mog\u001b[39;00m\u001b[38;5;21;01m.\u001b[39;00m\u001b[38;5;21;01mteam\u001b[39;00m\u001b[38;5;21;01m.\u001b[39;00m\u001b[38;5;21;01mteacher\u001b[39;00m \u001b[38;5;28;01mimport\u001b[39;00m gorilla\n\u001b[0;32m      3\u001b[0m \u001b[38;5;28mprint\u001b[39m(gorilla())\n",
      "\u001b[1;31mImportError\u001b[0m: cannot import name 'gorilla' from 'og.team.teacher' (c:\\Users\\80403\\Desktop\\seongeun\\16_python\\05_module\\og\\team\\teacher.py)"
     ]
    }
   ],
   "source": [
    "from og.team.teacher import gorilla\n",
    "\n",
    "print(gorilla())"
   ]
  },
  {
   "cell_type": "markdown",
   "metadata": {},
   "source": [
    "---\n",
    "## 02-02. PyPI (Python Package Index)\n",
    "### 02-02-01. PyPI란?\n",
    "- 개인 혹은 단체에 의해 개발 및 유지되는 파이썬 외부 라이브러리를 호스팅하고 배포하는 공싱 저장소\n",
    "- 파이썬 패키지 관리 시스템인 pip를 통해 설치하여 사용 가능하다.\n",
    "- https://pypi.org/"
   ]
  },
  {
   "cell_type": "markdown",
   "metadata": {},
   "source": [
    "### 02-02-02. pip?\n",
    "- PyPI에 공유된 패키지를 검색하고 설치하기 위한 명령어\n",
    "- pip 명령어를 활용하여 특정 패키지 설치, 업그레이드, 제거, 패키지 목록 관리 등을 할 수 있다.\n",
    "\n",
    "| **명령어** | **의미** |\n",
    "| --- | --- |\n",
    "| pip install *패키지명* | PyPI에서 패키지명으로 검색하여 최신 버전 설치 |\n",
    "| pip install *패키지명*==*버전* | 특정 버전의 패키지를 설치 |\n",
    "| pip list | 설치된 전체 패키지 및 버전 확인 |\n",
    "| pip list | grep *패키지명* | 설치된 특정 패키지 및 해당 패키지의 버전 확인 |\n",
    "| pip install --upgrade *패키지명* | 특정 패키지의 버전 업데이트 |\n",
    "| pip uninstall *패키지명* | 설치된 특정 패키지 제거 |"
   ]
  }
 ],
 "metadata": {
  "kernelspec": {
   "display_name": "pylecture_env",
   "language": "python",
   "name": "python3"
  },
  "language_info": {
   "codemirror_mode": {
    "name": "ipython",
    "version": 3
   },
   "file_extension": ".py",
   "mimetype": "text/x-python",
   "name": "python",
   "nbconvert_exporter": "python",
   "pygments_lexer": "ipython3",
   "version": "3.12.7"
  }
 },
 "nbformat": 4,
 "nbformat_minor": 2
}
