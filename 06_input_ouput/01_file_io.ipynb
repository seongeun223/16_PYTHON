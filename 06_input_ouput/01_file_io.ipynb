{
 "cells": [
  {
   "cell_type": "markdown",
   "metadata": {},
   "source": [
    "# 01. 파일 입출력\n",
    "---\n",
    "## 01-01. 파일 접근\n",
    "### 01-01-01. 파일 열기 open()\n",
    "\n",
    "- 인자로 경로를 포함한 파일명과 파일 열기 모드를 알파벳으로 전달하면서 호출하면, 파일 객체를 반환하는 함수\n",
    "\n",
    "- 첫 번째 매개변수 : 파일명(경로 포함)\n",
    "- 두 번째 매개변수 : 파일 열기 모드를 설정\n",
    "    - r : 읽기 모드\n",
    "    - w : 쓰기 모드 (덮어쓰기), 기존 파일이 없으면 새로운 파일이 생성된다.\n",
    "    - a : 수정 모드 (파일 끝에 내용 추가)"
   ]
  },
  {
   "cell_type": "code",
   "execution_count": 1,
   "metadata": {},
   "outputs": [],
   "source": [
    "f = open('song.txt', 'r')"
   ]
  },
  {
   "cell_type": "markdown",
   "metadata": {},
   "source": [
    "### 01-01-02. 파일 닫기 : close()\n",
    "- 열려 있는 파일 객체를 닫아주는 역할"
   ]
  },
  {
   "cell_type": "code",
   "execution_count": 2,
   "metadata": {},
   "outputs": [],
   "source": [
    "f.close()"
   ]
  },
  {
   "cell_type": "markdown",
   "metadata": {},
   "source": [
    "## 01-02. 파일 쓰기\n",
    "### 01-02-01. 파일 쓰기 write()\n",
    "- open한 파일 객체에 대해 write() 메소드를 사용하면, 인자로 넘겨준 하나의 문자열을 파일에 작성한다."
   ]
  },
  {
   "cell_type": "code",
   "execution_count": 3,
   "metadata": {},
   "outputs": [],
   "source": [
    "f = open('song_test.txt', 'w')\n",
    "\n",
    "f.write('그땐 정말 우리 좋았었죠')\n",
    "\n",
    "f.close()"
   ]
  },
  {
   "cell_type": "markdown",
   "metadata": {},
   "source": [
    "### 01-02-02. writelines()\n",
    "- 인자로 넘겨준 리스트의 요소를 하나하나 파일에 작성한다."
   ]
  },
  {
   "cell_type": "code",
   "execution_count": 6,
   "metadata": {},
   "outputs": [],
   "source": [
    "data = [\n",
    "    '어쩐지 옛사랑이 생각났죠 당신도 나만큼은 변했겠죠\\n',\n",
    "    '그래요 가끔 나 이렇게 당신 땜에 웃곤 해요\\n',\n",
    "    '그땐 정말 우리 좋았었죠\\n'\n",
    "]\n",
    "\n",
    "f = open('song_test.txt', 'w')\n",
    "\n",
    "f.writelines(data)\n",
    "\n",
    "f.close()"
   ]
  },
  {
   "cell_type": "markdown",
   "metadata": {},
   "source": [
    "## 01-03. 파일 읽기\n",
    "### 01-03-01. 파일 전체 읽기 read()\n",
    "- 파일 전체 내용을 읽어와 하나의 문자열로 반환한다."
   ]
  },
  {
   "cell_type": "code",
   "execution_count": 5,
   "metadata": {},
   "outputs": [
    {
     "name": "stdout",
     "output_type": "stream",
     "text": [
      "오늘도 그저 그런 날이네요 하루가 왜 이리도 빠르죠\n",
      "나 가끔은 거울 속에 비친 내가 무척 어색하죠\n",
      "정말 몰라보게 변했네요\n",
      "한때는 달콤한 꿈을꿨죠 가슴도 설레였죠\n",
      "괜시리 하얀 밤을 지새곤 했죠\n",
      "\n",
      "언제쯤 사랑을 다 알까요 언제쯤 세상을 다 알까요\n",
      "얼마나 살아봐야 알까요 정말 그런 날이 올까요\n",
      "시간을 되돌릴 순 없나요 조금만 늦춰줄 순 없나요\n",
      "눈부신 그 시절 나의 지난날이 그리워요\n",
      "\n",
      "어쩐지 옛사랑이 생각났죠 당신도 나만큼은 변했겠죠\n",
      "그래요 가끔 나 이렇게 당신 땜에 웃곤 해요\n",
      "그땐 정말 우리 좋았었죠\n"
     ]
    }
   ],
   "source": [
    "f = open('song.txt', 'r')\n",
    "data = f.read()\n",
    "\n",
    "print(data)\n",
    "\n",
    "f.close()"
   ]
  },
  {
   "cell_type": "markdown",
   "metadata": {},
   "source": [
    "### 01-03-02. 파일에서 한 줄만 읽기 : readline()"
   ]
  },
  {
   "cell_type": "code",
   "execution_count": 7,
   "metadata": {},
   "outputs": [
    {
     "name": "stdout",
     "output_type": "stream",
     "text": [
      "오늘도 그저 그런 날이네요 하루가 왜 이리도 빠르죠\n",
      "\n",
      "나 가끔은 거울 속에 비친 내가 무척 어색하죠\n",
      "\n",
      "정말 몰라보게 변했네요\n",
      "\n",
      "한때는 달콤한 꿈을꿨죠 가슴도 설레였죠\n",
      "\n",
      "괜시리 하얀 밤을 지새곤 했죠\n",
      "\n",
      "\n",
      "\n",
      "언제쯤 사랑을 다 알까요 언제쯤 세상을 다 알까요\n",
      "\n",
      "얼마나 살아봐야 알까요 정말 그런 날이 올까요\n",
      "\n",
      "시간을 되돌릴 순 없나요 조금만 늦춰줄 순 없나요\n",
      "\n",
      "눈부신 그 시절 나의 지난날이 그리워요\n",
      "\n",
      "\n",
      "\n",
      "어쩐지 옛사랑이 생각났죠 당신도 나만큼은 변했겠죠\n",
      "\n",
      "그래요 가끔 나 이렇게 당신 땜에 웃곤 해요\n",
      "\n",
      "그땐 정말 우리 좋았었죠\n"
     ]
    }
   ],
   "source": [
    "f = open('song.txt', 'r')\n",
    "\n",
    "while True:\n",
    "    data = f.readline()\n",
    "\n",
    "    if not data:\n",
    "        break;\n",
    "    \n",
    "    print(data)\n",
    "\n",
    "f.close()"
   ]
  },
  {
   "cell_type": "code",
   "execution_count": 8,
   "metadata": {},
   "outputs": [
    {
     "name": "stdout",
     "output_type": "stream",
     "text": [
      "['오늘도 그저 그런 날이네요 하루가 왜 이리도 빠르죠\\n', '나 가끔은 거울 속에 비친 내가 무척 어색하죠\\n', '정말 몰라보게 변했네요\\n', '한때는 달콤한 꿈을꿨죠 가슴도 설레였죠\\n', '괜시리 하얀 밤을 지새곤 했죠\\n', '\\n', '언제쯤 사랑을 다 알까요 언제쯤 세상을 다 알까요\\n', '얼마나 살아봐야 알까요 정말 그런 날이 올까요\\n', '시간을 되돌릴 순 없나요 조금만 늦춰줄 순 없나요\\n', '눈부신 그 시절 나의 지난날이 그리워요\\n', '\\n', '어쩐지 옛사랑이 생각났죠 당신도 나만큼은 변했겠죠\\n', '그래요 가끔 나 이렇게 당신 땜에 웃곤 해요\\n', '그땐 정말 우리 좋았었죠']\n"
     ]
    }
   ],
   "source": [
    "# 파일 전체를 줄마다 (리스트 형태로) 가져오기\n",
    "f = open('song.txt', 'r')\n",
    "\n",
    "data = f.readlines()\n",
    "\n",
    "print(data)\n",
    "\n",
    "f.close()"
   ]
  },
  {
   "cell_type": "markdown",
   "metadata": {},
   "source": [
    "---\n",
    "## 01-04. 파일 내용 추가하기\n",
    "\n",
    "### 01-04-01. 파일 내용 추가 모드\n",
    "- 추가모드 'a'를 사용하여 파일을 열어 내용을 추가할 수 있다.\n",
    "- 쓰기모드('w')로 파일을 열 때 이미 존재하는 파일을 열게 되면 그 파일의 내용이 사라진다."
   ]
  },
  {
   "cell_type": "code",
   "execution_count": 11,
   "metadata": {},
   "outputs": [],
   "source": [
    "f = open('song.txt', 'a')\n",
    "\n",
    "f.write(' 노래 끝')\n",
    "\n",
    "f.close()\n",
    "\n"
   ]
  },
  {
   "cell_type": "markdown",
   "metadata": {},
   "source": [
    "---\n",
    "## 01-05. with 키워드\n",
    "- 파일을 열어서 사용하고 사용이 종료되면 닫는 역할을 한다.\n",
    "- with문을 사용하면 with 블록을 벗어나는 순간, 객체가 닫히게 된다."
   ]
  },
  {
   "cell_type": "code",
   "execution_count": 12,
   "metadata": {},
   "outputs": [],
   "source": [
    "with open('song_test.txt', 'w') as f:\n",
    "    f.write('Life is too short, you need python')"
   ]
  }
 ],
 "metadata": {
  "kernelspec": {
   "display_name": "pylecture_env",
   "language": "python",
   "name": "python3"
  },
  "language_info": {
   "codemirror_mode": {
    "name": "ipython",
    "version": 3
   },
   "file_extension": ".py",
   "mimetype": "text/x-python",
   "name": "python",
   "nbconvert_exporter": "python",
   "pygments_lexer": "ipython3",
   "version": "3.12.7"
  }
 },
 "nbformat": 4,
 "nbformat_minor": 2
}
