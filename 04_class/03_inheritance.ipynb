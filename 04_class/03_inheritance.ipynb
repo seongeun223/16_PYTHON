{
 "cells": [
  {
   "cell_type": "markdown",
   "metadata": {},
   "source": [
    "# 03. 상속 (Inheritance)\n",
    "---\n",
    "## 03-01. 상속 개요\n",
    "### 03-01-01. 상속이란?\n",
    "\n",
    "- 부모 클래스를 상속받는 것\n",
    "- 부모가 가지고 있는 속성이나 메소드를 자신의 것처럼 사용할 수 있다는 의미"
   ]
  },
  {
   "cell_type": "markdown",
   "metadata": {},
   "source": [
    "### 03-01-02. 상속 기본 문법"
   ]
  },
  {
   "cell_type": "code",
   "execution_count": null,
   "metadata": {},
   "outputs": [],
   "source": [
    "class 자식클래스(부모클래스):\n",
    "    <속성1>\n",
    "    <속성...>"
   ]
  },
  {
   "cell_type": "code",
   "execution_count": 1,
   "metadata": {},
   "outputs": [
    {
     "name": "stdout",
     "output_type": "stream",
     "text": [
      "Hello. This is python\n"
     ]
    }
   ],
   "source": [
    "class Person:\n",
    "    natinal = 'korea'\n",
    "    \n",
    "    def greeting(self):\n",
    "        return 'Hello. This is python'\n",
    "    \n",
    "class Student(Person):\n",
    "    pass\n",
    "\n",
    "student = Student()\n",
    "\n",
    "print(student.greeting())"
   ]
  },
  {
   "cell_type": "markdown",
   "metadata": {},
   "source": [
    "## 03-02. 상속의 특징\n",
    "### 03-02-01. 다중 상속 지원\n",
    "- 부모클래스를 여러 개 가지는 다중 상속을 지원한다."
   ]
  },
  {
   "cell_type": "code",
   "execution_count": 8,
   "metadata": {},
   "outputs": [
    {
     "name": "stdout",
     "output_type": "stream",
     "text": [
      "korea\n",
      "I am learning Python\n",
      "Hello. This is Python\n",
      "(<class '__main__.Student'>, <class '__main__.Person'>, <class '__main__.Leaner'>, <class 'object'>)\n"
     ]
    }
   ],
   "source": [
    "class Person:\n",
    "    natinal = 'korea'\n",
    "    \n",
    "    def greeting(self):\n",
    "        return 'Hello. This is Python'\n",
    "\n",
    "class Leaner:\n",
    "    def greeting(self):\n",
    "        return 'Hello. I am Leaner'\n",
    "    \n",
    "    def learn(self):\n",
    "        return 'I am learning Python'\n",
    "    \n",
    "class Student(Person, Leaner):\n",
    "    pass\n",
    "\n",
    "student = Student()\n",
    "print(student.natinal)\n",
    "print(student.learn())\n",
    "\n",
    "print(student.greeting())\n",
    "\n",
    "# MRO\n",
    "# Method Resolution Order\n",
    "# 파이썬에서 메소드나 속성을 탐색하는 순서를 정의하는 규칙\n",
    "# 파이썬에서는 c3 선형화 알고리즘에 따라서 MRO를 결정\n",
    "# 1. 자식 클래스가 부모 클래스보다 먼저 탐색됨\n",
    "# 2. 부모 클래스의 순서를 유지\n",
    "# 3. 중복 제거\n",
    "\n",
    "print(Student.__mro__)\n"
   ]
  },
  {
   "cell_type": "markdown",
   "metadata": {},
   "source": [
    "### 03-02-02. 다른 모듈의 클래스 상속 가능\n",
    "- 다른 모듈에 포함된 클래스도 상속받을 수 있다."
   ]
  },
  {
   "cell_type": "code",
   "execution_count": 30,
   "metadata": {},
   "outputs": [
    {
     "ename": "AttributeError",
     "evalue": "module 'modules' has no attribute 'Person'",
     "output_type": "error",
     "traceback": [
      "\u001b[1;31m---------------------------------------------------------------------------\u001b[0m",
      "\u001b[1;31mAttributeError\u001b[0m                            Traceback (most recent call last)",
      "Cell \u001b[1;32mIn[30], line 3\u001b[0m\n\u001b[0;32m      1\u001b[0m \u001b[38;5;28;01mimport\u001b[39;00m \u001b[38;5;21;01mmodules\u001b[39;00m\n\u001b[1;32m----> 3\u001b[0m \u001b[38;5;28;01mclass\u001b[39;00m \u001b[38;5;21;01mModules_test\u001b[39;00m(\u001b[43mmodules\u001b[49m\u001b[38;5;241;43m.\u001b[39;49m\u001b[43mPerson\u001b[49m):\n\u001b[0;32m      4\u001b[0m     \u001b[38;5;28;01mpass\u001b[39;00m\n\u001b[0;32m      7\u001b[0m modules_test \u001b[38;5;241m=\u001b[39m Modules_test()\n",
      "\u001b[1;31mAttributeError\u001b[0m: module 'modules' has no attribute 'Person'"
     ]
    }
   ],
   "source": [
    "import modules\n",
    "\n",
    "class Modules_test(modules.Person):\n",
    "    pass\n",
    "\n",
    "\n",
    "modules_test = Modules_test()\n",
    "\n",
    "print(modules_test.greeting())"
   ]
  },
  {
   "cell_type": "markdown",
   "metadata": {},
   "source": [
    "### 03-02-03. 부모 클래스의 속성 오버라이딩 가능\n",
    "- 부모 클래스의 속성을 오버라이딩해서 사용할 수 있다."
   ]
  },
  {
   "cell_type": "code",
   "execution_count": 13,
   "metadata": {},
   "outputs": [
    {
     "name": "stdout",
     "output_type": "stream",
     "text": [
      "Hello. My name is 곰\n",
      "I am learning python\n",
      "(<class '__main__.Student'>, <class '__main__.Leaner'>, <class '__main__.Person'>, <class 'object'>)\n"
     ]
    }
   ],
   "source": [
    "class Person:\n",
    "    natinal = 'korea'\n",
    "    \n",
    "    def greeting(self):\n",
    "        return 'Hello. This is Python'\n",
    "\n",
    "class Leaner(Person):\n",
    "    def __init__(self,subject):\n",
    "        self.subject = subject\n",
    "    \n",
    "    def learn(self):\n",
    "        return f'I am learning {self.subject}'\n",
    "    \n",
    "class Student(Leaner):\n",
    "    def __init__(self, name, subject):\n",
    "        # 부모클래스의 생성자 호출\n",
    "        Leaner.__init__(self, subject)\n",
    "        self.name = name\n",
    "        \n",
    "    def greeting(self):\n",
    "        return f'Hello. My name is {self.name}'\n",
    "        \n",
    "student = Student('곰', 'python')\n",
    "print(student.greeting())\n",
    "print(student.learn())\n",
    "\n",
    "print(Student.__mro__)"
   ]
  },
  {
   "cell_type": "markdown",
   "metadata": {},
   "source": [
    "# 04. 다형성\n",
    "---\n",
    "## 04-01. 다형성 개요\n",
    "### 04-01-01. 다형성이란?\n",
    "- 같은 멤버 함수 호출에 대해 (상속관계 내의) 다른 클래스의 인스턴스들이 각각 다르게 반응하다로고 하는 기능"
   ]
  },
  {
   "cell_type": "code",
   "execution_count": 18,
   "metadata": {},
   "outputs": [
    {
     "name": "stdout",
     "output_type": "stream",
     "text": [
      "🐕🐕\n",
      "🦆🦆\n",
      "🐈🐈\n",
      "-------------------------------\n",
      "🐕🐕\n",
      "🦆🦆\n",
      "🐈🐈\n",
      "⏰⏰\n"
     ]
    }
   ],
   "source": [
    "# 부모 클래스\n",
    "\n",
    "class Animal:\n",
    "    def do(self):\n",
    "        print('⭐⭐')\n",
    "        \n",
    "class Dog(Animal):\n",
    "    def do(self):\n",
    "        print('🐕🐕')\n",
    "        \n",
    "class Duck(Animal):\n",
    "    def do(self):\n",
    "        print('🦆🦆')\n",
    "        \n",
    "class Cat(Animal):\n",
    "    def do(self):\n",
    "        print('🐈🐈')\n",
    "        \n",
    "for each in (Dog(), Duck(), Cat()):\n",
    "    each.do()\n",
    "    \n",
    "print('-------------------------------')\n",
    "class Alarm:\n",
    "    def do(self):\n",
    "        print('⏰⏰')\n",
    "        \n",
    "for each in (Dog(), Duck(), Cat(),Alarm()):\n",
    "    each.do()"
   ]
  }
 ],
 "metadata": {
  "kernelspec": {
   "display_name": "pylecture_env",
   "language": "python",
   "name": "python3"
  },
  "language_info": {
   "codemirror_mode": {
    "name": "ipython",
    "version": 3
   },
   "file_extension": ".py",
   "mimetype": "text/x-python",
   "name": "python",
   "nbconvert_exporter": "python",
   "pygments_lexer": "ipython3",
   "version": "3.12.7"
  }
 },
 "nbformat": 4,
 "nbformat_minor": 2
}
